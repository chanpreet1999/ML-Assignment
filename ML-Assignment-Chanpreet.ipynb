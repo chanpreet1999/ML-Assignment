{
 "cells": [
  {
   "cell_type": "markdown",
   "metadata": {},
   "source": [
    "## Ques1: Create a program that asks the user to enter their name and their age. Print out a message addressed to them that tells them the year that they will turn 100 years old."
   ]
  },
  {
   "cell_type": "code",
   "execution_count": 9,
   "metadata": {
    "scrolled": false
   },
   "outputs": [
    {
     "name": "stdout",
     "output_type": "stream",
     "text": [
      "Enter your name \n",
      "Chanpreet\n",
      "Enter your age \n",
      "21\n",
      "Welcome Chanpreet! You are 21 years old. You will turn 100 years old in 2100.\n"
     ]
    }
   ],
   "source": [
    "from datetime import datetime\n",
    "name = input('Enter your name \\n')\n",
    "age = int(input('Enter your age \\n'))\n",
    "year = int((100-age) + datetime.now().year)\n",
    "print ('Welcome %s! You are %s years old. You will turn 100 years old in %s.' % (name, age, year))"
   ]
  },
  {
   "cell_type": "markdown",
   "metadata": {},
   "source": [
    "\n",
    "#### Extras: i) Add on to the previous program by asking the user for another number and printing out that many copies of the previous message."
   ]
  },
  {
   "cell_type": "code",
   "execution_count": 11,
   "metadata": {},
   "outputs": [
    {
     "name": "stdout",
     "output_type": "stream",
     "text": [
      "Enter number of copies you want?\n",
      "2\n",
      "Welcome Chanpreet! You are 21 years old. You will turn 100 years old in 2100.Welcome Chanpreet! You are 21 years old. You will turn 100 years old in 2100.\n"
     ]
    }
   ],
   "source": [
    "copies = int(input('Enter number of copies you want?\\n'))\n",
    "msg = (\"Welcome %s! You are %s years old. You will turn 100 years old in %s.\" % (name, age, year))\n",
    "print(msg * copies)"
   ]
  },
  {
   "cell_type": "markdown",
   "metadata": {},
   "source": [
    "\n",
    "## Q2: Take a list, say for example this one: a = [1,1,2,3,5,8,13,21,34,55,89],  and write a program that prints out all the elements of the list that are less than 5.\n"
   ]
  },
  {
   "cell_type": "code",
   "execution_count": 12,
   "metadata": {},
   "outputs": [
    {
     "name": "stdout",
     "output_type": "stream",
     "text": [
      "1\n",
      "1\n",
      "2\n",
      "3\n"
     ]
    }
   ],
   "source": [
    "a = [1, 1, 2, 3, 5, 8, 13, 21, 34, 55, 89]\n",
    "for item in a:\n",
    "    if item < 5:\n",
    "        print(item)"
   ]
  },
  {
   "cell_type": "markdown",
   "metadata": {},
   "source": [
    "#### Extras i) Instead of printing the elements one by one, make a new list that has all the elements less than 5 from this list and print out this new list."
   ]
  },
  {
   "cell_type": "code",
   "execution_count": 13,
   "metadata": {},
   "outputs": [
    {
     "name": "stdout",
     "output_type": "stream",
     "text": [
      "[1, 1, 2, 3]\n"
     ]
    }
   ],
   "source": [
    "actual_list = [1, 1, 2, 3, 5, 8, 13, 21, 34, 55, 89]\n",
    "\n",
    "new_list = []\n",
    "\n",
    "for item in actual_list:\n",
    "    if item < 5:\n",
    "        new_list.append(item)\n",
    "print(new_list)"
   ]
  },
  {
   "cell_type": "markdown",
   "metadata": {},
   "source": [
    "#### write this using one line of code"
   ]
  },
  {
   "cell_type": "code",
   "execution_count": 14,
   "metadata": {},
   "outputs": [
    {
     "name": "stdout",
     "output_type": "stream",
     "text": [
      "[1, 1, 2, 3]\n"
     ]
    }
   ],
   "source": [
    "actual_list = [1, 1, 2, 3, 5, 8, 13, 21, 34, 55, 89]\n",
    "\n",
    "new_list = []\n",
    "[new_list.append(i) for i in actual_list if i < 5]\n",
    "print(new_list)"
   ]
  },
  {
   "cell_type": "markdown",
   "metadata": {},
   "source": [
    "#### Extras ii) Ask a user for a number and return a list that contains only elements from the original list that are smaller than the number entered by the user."
   ]
  },
  {
   "cell_type": "code",
   "execution_count": 16,
   "metadata": {},
   "outputs": [
    {
     "name": "stdout",
     "output_type": "stream",
     "text": [
      "Enter a number \n",
      "20\n",
      "Numbers smaller than 20 are\n",
      "[1, 1, 2, 3, 5, 8, 13]\n"
     ]
    }
   ],
   "source": [
    "user_list = []\n",
    "num = int(input('Enter a number \\n'))\n",
    "for item in actual_list:\n",
    "    if item < num:\n",
    "        user_list.append(item)\n",
    "          \n",
    "print ('Numbers smaller than %s are'  % (num))\n",
    "print(user_list)"
   ]
  },
  {
   "cell_type": "markdown",
   "metadata": {},
   "source": [
    "\n",
    "## Ques3: Write a program that asks the user how many Fibonacci numbers to generate and then generates them. Take this opportunity to think about how you can use functions. Make sure to ask the user to enter the number of numbers in the sequence to generate.\n",
    "### (Hint: The Fibonacci seqence is a sequence of numbers where the next number in the sequence is the sum of the previous two numbers in the sequence. The sequence looks like this: 1, 1, 2, 3, 5, 8, 13, ...)"
   ]
  },
  {
   "cell_type": "code",
   "execution_count": 17,
   "metadata": {},
   "outputs": [
    {
     "name": "stdout",
     "output_type": "stream",
     "text": [
      "How many fibnocci numbers to generate?:5\n",
      "[1, 1, 2, 3, 5]\n"
     ]
    }
   ],
   "source": [
    "\n",
    "\n",
    "def fibonacci():\n",
    "    num = int(input(\"How many fibnocci numbers to generate?:\"))\n",
    "    i = 1\n",
    "    if num == 0:\n",
    "        fib = []\n",
    "    elif num == 1:\n",
    "        fib = [1]\n",
    "    elif num == 2:\n",
    "        fib = [1,1]\n",
    "    elif num > 2:\n",
    "        fib = [1,1]\n",
    "        while i < (num - 1):\n",
    "            fib.append(fib[i] + fib[i-1])\n",
    "            i += 1\n",
    "    return fib\n",
    "print(fibonacci())"
   ]
  },
  {
   "cell_type": "markdown",
   "metadata": {},
   "source": [
    "## Ques 4: Write a program (function!) that takes a list and returns a new list that contains all the elements of the first list minus all the duplicates.\n",
    "\n",
    "### Extras: Write two different functions to do this - one using a loop and constructing a list, and another using sets."
   ]
  },
  {
   "cell_type": "code",
   "execution_count": 20,
   "metadata": {},
   "outputs": [
    {
     "name": "stdout",
     "output_type": "stream",
     "text": [
      "['ele1', 'ele2', 'ele3', 'ele5', 'ele6', 'ele4']\n"
     ]
    }
   ],
   "source": [
    "#using for loop & lists \n",
    "\n",
    "orig_list = ['ele1', 'ele2', 'ele3', 'ele1', 'ele3', 'ele5', 'ele6', 'ele4', 'ele4']\n",
    "new_list =[]\n",
    "\n",
    "def doing_Something(orig_list):\n",
    "    for i in orig_list:\n",
    "        if i not in new_list:\n",
    "            new_list.append(i)\n",
    "            \n",
    "    return new_list\n",
    "\n",
    "print(doing_Something(orig_list))"
   ]
  },
  {
   "cell_type": "code",
   "execution_count": 22,
   "metadata": {},
   "outputs": [
    {
     "name": "stdout",
     "output_type": "stream",
     "text": [
      "['ele6', 'ele5', 'ele4', 'ele1', 'ele3', 'ele2']\n"
     ]
    }
   ],
   "source": [
    "#using sets \n",
    "orig_list = ['ele1', 'ele2', 'ele3', 'ele1', 'ele3', 'ele5', 'ele6', 'ele4', 'ele4']\n",
    "print(list(set(orig_list)))"
   ]
  },
  {
   "cell_type": "markdown",
   "metadata": {},
   "source": [
    "## Ques 5: Ask the user for a number and determine whether the number is prime or not. (For those who have forgotten, a prime number is a number that has no divisors.). Use functions.¶\n",
    " "
   ]
  },
  {
   "cell_type": "code",
   "execution_count": 23,
   "metadata": {},
   "outputs": [
    {
     "name": "stdout",
     "output_type": "stream",
     "text": [
      "Enter a number \n",
      "53\n",
      "53 is a prime number\n"
     ]
    }
   ],
   "source": [
    "def Prime(num):\n",
    "    if num > 1:  \n",
    "        for i in range(2,num//2):  \n",
    "            if (num % i) == 0:  \n",
    "                print(num,\"is not a prime number\")  \n",
    "                print(i,\"times\",num//i,\"is\",num) \n",
    "                break\n",
    "        else:  \n",
    "            print(num,\"is a prime number\")  \n",
    "    else:\n",
    "        print(\"number should be greater than 1\")\n",
    "\n",
    "num = int(input('Enter a number \\n'))\n",
    "Prime(int(num))"
   ]
  }
 ],
 "metadata": {
  "kernelspec": {
   "display_name": "Python 3",
   "language": "python",
   "name": "python3"
  },
  "language_info": {
   "codemirror_mode": {
    "name": "ipython",
    "version": 3
   },
   "file_extension": ".py",
   "mimetype": "text/x-python",
   "name": "python",
   "nbconvert_exporter": "python",
   "pygments_lexer": "ipython3",
   "version": "3.8.5"
  }
 },
 "nbformat": 4,
 "nbformat_minor": 4
}
